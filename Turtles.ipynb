{
 "cells": [
  {
   "cell_type": "code",
   "execution_count": 20,
   "id": "b4a87907",
   "metadata": {
    "ExecuteTime": {
     "end_time": "2023-05-15T04:08:09.793376Z",
     "start_time": "2023-05-15T04:08:09.778431Z"
    }
   },
   "outputs": [],
   "source": [
    "import turtle\n",
    "import math"
   ]
  },
  {
   "cell_type": "code",
   "execution_count": 21,
   "id": "7fb09ad5",
   "metadata": {
    "ExecuteTime": {
     "end_time": "2023-05-15T04:08:10.736810Z",
     "start_time": "2023-05-15T04:08:10.729771Z"
    }
   },
   "outputs": [],
   "source": [
    "def love(t):\n",
    "    x = 16 * (math.sin(t) ** 3)\n",
    "    y = 13 * math.cos(t) - 5 * math.cos(2*t) - 2 * math.cos(3*t) - math.cos(4*t)\n",
    "    return x,y"
   ]
  },
  {
   "cell_type": "code",
   "execution_count": 22,
   "id": "b5cb0a45",
   "metadata": {
    "ExecuteTime": {
     "end_time": "2023-05-15T04:09:18.909844Z",
     "start_time": "2023-05-15T04:08:11.069055Z"
    }
   },
   "outputs": [],
   "source": [
    "turtle.setup(800,800)\n",
    "turtle.bgcolor('white')\n",
    "turtle.pensize(2)\n",
    "turtle.pencolor('blue')\n",
    "turtle.speed(0.1)\n",
    "\n",
    "factor1 = 20\n",
    "factor2 = 10\n",
    "turtle.penup()\n",
    "\n",
    "for i in range(0,200):\n",
    "    x,y = love(i)\n",
    "    turtle.goto(x * factor1, y * factor1)\n",
    "    turtle.pendown()\n",
    "    \n",
    "turtle.penup()\n",
    "turtle.goto(-150,-30)\n",
    "turtle.pendown()\n",
    "turtle.write(\"Happy Birthday to Me\", font=(\"Comic Sans\",25,\"bold\"))\n",
    "turtle.penup()\n",
    "turtle.goto(-80,-70)\n",
    "turtle.pendown()\n",
    "turtle.write(\"Self Love\", font=(\"Comic Sans\",25,\"bold\"))\n",
    "\n",
    "turtle.exitonclick()"
   ]
  },
  {
   "cell_type": "code",
   "execution_count": null,
   "id": "40b17a5f",
   "metadata": {},
   "outputs": [],
   "source": []
  }
 ],
 "metadata": {
  "kernelspec": {
   "display_name": "Python 3 (ipykernel)",
   "language": "python",
   "name": "python3"
  },
  "language_info": {
   "codemirror_mode": {
    "name": "ipython",
    "version": 3
   },
   "file_extension": ".py",
   "mimetype": "text/x-python",
   "name": "python",
   "nbconvert_exporter": "python",
   "pygments_lexer": "ipython3",
   "version": "3.9.13"
  },
  "toc": {
   "base_numbering": 1,
   "nav_menu": {},
   "number_sections": true,
   "sideBar": true,
   "skip_h1_title": false,
   "title_cell": "Table of Contents",
   "title_sidebar": "Contents",
   "toc_cell": false,
   "toc_position": {},
   "toc_section_display": true,
   "toc_window_display": false
  }
 },
 "nbformat": 4,
 "nbformat_minor": 5
}
